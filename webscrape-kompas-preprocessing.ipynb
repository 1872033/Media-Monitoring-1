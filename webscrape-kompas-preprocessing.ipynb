{
 "cells": [
  {
   "cell_type": "code",
   "execution_count": 1,
   "id": "ad5fbefd",
   "metadata": {
    "execution": {
     "iopub.execute_input": "2022-06-09T05:33:38.761261Z",
     "iopub.status.busy": "2022-06-09T05:33:38.760891Z",
     "iopub.status.idle": "2022-06-09T05:33:38.795851Z",
     "shell.execute_reply": "2022-06-09T05:33:38.795254Z"
    },
    "papermill": {
     "duration": 0.052135,
     "end_time": "2022-06-09T05:33:38.797842",
     "exception": false,
     "start_time": "2022-06-09T05:33:38.745707",
     "status": "completed"
    },
    "tags": []
   },
   "outputs": [
    {
     "data": {
      "text/html": [
       "<div>\n",
       "<style scoped>\n",
       "    .dataframe tbody tr th:only-of-type {\n",
       "        vertical-align: middle;\n",
       "    }\n",
       "\n",
       "    .dataframe tbody tr th {\n",
       "        vertical-align: top;\n",
       "    }\n",
       "\n",
       "    .dataframe thead th {\n",
       "        text-align: right;\n",
       "    }\n",
       "</style>\n",
       "<table border=\"1\" class=\"dataframe\">\n",
       "  <thead>\n",
       "    <tr style=\"text-align: right;\">\n",
       "      <th></th>\n",
       "      <th>Date</th>\n",
       "      <th>Scrapped</th>\n",
       "    </tr>\n",
       "  </thead>\n",
       "  <tbody>\n",
       "    <tr>\n",
       "      <th>0</th>\n",
       "      <td>30/04/2022</td>\n",
       "      <td>Apple Tak Lagi Jadi Merek Smartphone Nomor Sat...</td>\n",
       "    </tr>\n",
       "  </tbody>\n",
       "</table>\n",
       "</div>"
      ],
      "text/plain": [
       "         Date                                           Scrapped\n",
       "0  30/04/2022  Apple Tak Lagi Jadi Merek Smartphone Nomor Sat..."
      ]
     },
     "execution_count": 1,
     "metadata": {},
     "output_type": "execute_result"
    }
   ],
   "source": [
    "import numpy as np\n",
    "import matplotlib.pyplot as plt\n",
    "import pandas as pd\n",
    "df = pd.read_csv(filepath_or_buffer=\"../input/webscrapedkompasraw/April/30-04-2022.csv\",sep=';', encoding=\"UTF-8\", on_bad_lines='skip')\n",
    "df.head()"
   ]
  },
  {
   "cell_type": "code",
   "execution_count": 2,
   "id": "7322f11f",
   "metadata": {
    "execution": {
     "iopub.execute_input": "2022-06-09T05:33:38.826314Z",
     "iopub.status.busy": "2022-06-09T05:33:38.825708Z",
     "iopub.status.idle": "2022-06-09T05:33:38.836101Z",
     "shell.execute_reply": "2022-06-09T05:33:38.835464Z"
    },
    "papermill": {
     "duration": 0.025903,
     "end_time": "2022-06-09T05:33:38.837671",
     "exception": false,
     "start_time": "2022-06-09T05:33:38.811768",
     "status": "completed"
    },
    "tags": []
   },
   "outputs": [
    {
     "data": {
      "text/html": [
       "<div>\n",
       "<style scoped>\n",
       "    .dataframe tbody tr th:only-of-type {\n",
       "        vertical-align: middle;\n",
       "    }\n",
       "\n",
       "    .dataframe tbody tr th {\n",
       "        vertical-align: top;\n",
       "    }\n",
       "\n",
       "    .dataframe thead th {\n",
       "        text-align: right;\n",
       "    }\n",
       "</style>\n",
       "<table border=\"1\" class=\"dataframe\">\n",
       "  <thead>\n",
       "    <tr style=\"text-align: right;\">\n",
       "      <th></th>\n",
       "      <th>Date</th>\n",
       "      <th>Scrapped</th>\n",
       "    </tr>\n",
       "  </thead>\n",
       "  <tbody>\n",
       "    <tr>\n",
       "      <th>0</th>\n",
       "      <td>30/04/2022</td>\n",
       "      <td>apple tak lagi jadi merek smartphone nomor sat...</td>\n",
       "    </tr>\n",
       "  </tbody>\n",
       "</table>\n",
       "</div>"
      ],
      "text/plain": [
       "         Date                                           Scrapped\n",
       "0  30/04/2022  apple tak lagi jadi merek smartphone nomor sat..."
      ]
     },
     "execution_count": 2,
     "metadata": {},
     "output_type": "execute_result"
    }
   ],
   "source": [
    "df[\"Scrapped\"] = df[\"Scrapped\"].str.lower()\n",
    "df.head()"
   ]
  },
  {
   "cell_type": "code",
   "execution_count": 3,
   "id": "a71a9928",
   "metadata": {
    "execution": {
     "iopub.execute_input": "2022-06-09T05:33:38.866284Z",
     "iopub.status.busy": "2022-06-09T05:33:38.865619Z",
     "iopub.status.idle": "2022-06-09T05:33:38.869203Z",
     "shell.execute_reply": "2022-06-09T05:33:38.868571Z"
    },
    "papermill": {
     "duration": 0.019533,
     "end_time": "2022-06-09T05:33:38.870770",
     "exception": false,
     "start_time": "2022-06-09T05:33:38.851237",
     "status": "completed"
    },
    "tags": []
   },
   "outputs": [],
   "source": [
    "# df.drop([\"Scraped\"], axis=1, inplace=True)\n",
    "\n",
    "# PUNCT_TO_REMOVE = string.punctuation\n",
    "# def remove_punctuation(text):\n",
    "#     \"\"\"!\"#$%&\\'()*+,-./:;<=>?@[\\\\]^_{|}~`\"\"\"\n",
    "#     return text.translate(str.maketrans( '', '', PUNCT_TO_REMOVE))\n",
    "\n",
    "# df[\"scraped_wo_punct\"] = df[\"Date\"].apply(lambda text: remove_punctuation(text))\n",
    "# df.head()"
   ]
  },
  {
   "cell_type": "code",
   "execution_count": 4,
   "id": "41fdeb5d",
   "metadata": {
    "execution": {
     "iopub.execute_input": "2022-06-09T05:33:38.899047Z",
     "iopub.status.busy": "2022-06-09T05:33:38.898676Z",
     "iopub.status.idle": "2022-06-09T05:33:40.329534Z",
     "shell.execute_reply": "2022-06-09T05:33:40.328759Z"
    },
    "papermill": {
     "duration": 1.446862,
     "end_time": "2022-06-09T05:33:40.331478",
     "exception": false,
     "start_time": "2022-06-09T05:33:38.884616",
     "status": "completed"
    },
    "tags": []
   },
   "outputs": [
    {
     "data": {
      "text/plain": [
       "'ada, adalah, adanya, adapun, agak, agaknya, agar, akan, akankah, akhir, akhiri, akhirnya, aku, akulah, amat, amatlah, anda, andalah, antar, antara, antaranya, apa, apaan, apabila, apakah, apalagi, apatah, artinya, asal, asalkan, atas, atau, ataukah, ataupun, awal, awalnya, bagai, bagaikan, bagaimana, bagaimanakah, bagaimanapun, bagi, bagian, bahkan, bahwa, bahwasanya, baik, bakal, bakalan, balik, banyak, bapak, baru, bawah, beberapa, begini, beginian, beginikah, beginilah, begitu, begitukah, begitulah, begitupun, bekerja, belakang, belakangan, belum, belumlah, benar, benarkah, benarlah, berada, berakhir, berakhirlah, berakhirnya, berapa, berapakah, berapalah, berapapun, berarti, berawal, berbagai, berdatangan, beri, berikan, berikut, berikutnya, berjumlah, berkali-kali, berkata, berkehendak, berkeinginan, berkenaan, berlainan, berlalu, berlangsung, berlebihan, bermacam, bermacam-macam, bermaksud, bermula, bersama, bersama-sama, bersiap, bersiap-siap, bertanya, bertanya-tanya, berturut, berturut-turut, bertutur, berujar, berupa, besar, betul, betulkah, biasa, biasanya, bila, bilakah, bisa, bisakah, boleh, bolehkah, bolehlah, buat, bukan, bukankah, bukanlah, bukannya, bulan, bung, cara, caranya, cukup, cukupkah, cukuplah, cuma, dahulu, dalam, dan, dapat, dari, daripada, datang, dekat, demi, demikian, demikianlah, dengan, depan, di, dia, diakhiri, diakhirinya, dialah, diantara, diantaranya, diberi, diberikan, diberikannya, dibuat, dibuatnya, didapat, didatangkan, digunakan, diibaratkan, diibaratkannya, diingat, diingatkan, diinginkan, dijawab, dijelaskan, dijelaskannya, dikarenakan, dikatakan, dikatakannya, dikerjakan, diketahui, diketahuinya, dikira, dilakukan, dilalui, dilihat, dimaksud, dimaksudkan, dimaksudkannya, dimaksudnya, diminta, dimintai, dimisalkan, dimulai, dimulailah, dimulainya, dimungkinkan, dini, dipastikan, diperbuat, diperbuatnya, dipergunakan, diperkirakan, diperlihatkan, diperlukan, diperlukannya, dipersoalkan, dipertanyakan, dipunyai, diri, dirinya, disampaikan, disebut, disebutkan, disebutkannya, disini, disinilah, ditambahkan, ditandaskan, ditanya, ditanyai, ditanyakan, ditegaskan, ditujukan, ditunjuk, ditunjuki, ditunjukkan, ditunjukkannya, ditunjuknya, dituturkan, dituturkannya, diucapkan, diucapkannya, diungkapkan, dong, dua, dulu, empat, enggak, enggaknya, entah, entahlah, guna, gunakan, hal, hampir, hanya, hanyalah, hari, harus, haruslah, harusnya, hendak, hendaklah, hendaknya, hingga, ia, ialah, ibarat, ibaratkan, ibaratnya, ibu, ikut, ingat, ingat-ingat, ingin, inginkah, inginkan, ini, inikah, inilah, itu, itukah, itulah, jadi, jadilah, jadinya, jangan, jangankan, janganlah, jauh, jawab, jawaban, jawabnya, jelas, jelaskan, jelaslah, jelasnya, jika, jikalau, juga, jumlah, jumlahnya, justru, kala, kalau, kalaulah, kalaupun, kalian, kami, kamilah, kamu, kamulah, kan, kapan, kapankah, kapanpun, karena, karenanya, kasus, kata, katakan, katakanlah, katanya, ke, keadaan, kebetulan, kecil, kedua, keduanya, keinginan, kelamaan, kelihatan, kelihatannya, kelima, keluar, kembali, kemudian, kemungkinan, kemungkinannya, kenapa, kepada, kepadanya, kesampaian, keseluruhan, keseluruhannya, keterlaluan, ketika, khususnya, kini, kinilah, kira, kira-kira, kiranya, kita, kitalah, kok, kurang, lagi, lagian, lah, lain, lainnya, lalu, lama, lamanya, lanjut, lanjutnya, lebih, lewat, lima, luar, macam, maka, makanya, makin, malah, malahan, mampu, mampukah, mana, manakala, manalagi, masa, masalah, masalahnya, masih, masihkah, masing, masing-masing, mau, maupun, melainkan, melakukan, melalui, melihat, melihatnya, memang, memastikan, memberi, memberikan, membuat, memerlukan, memihak, meminta, memintakan, memisalkan, memperbuat, mempergunakan, memperkirakan, memperlihatkan, mempersiapkan, mempersoalkan, mempertanyakan, mempunyai, memulai, memungkinkan, menaiki, menambahkan, menandaskan, menanti, menanti-nanti, menantikan, menanya, menanyai, menanyakan, mendapat, mendapatkan, mendatang, mendatangi, mendatangkan, menegaskan, mengakhiri, mengapa, mengatakan, mengatakannya, mengenai, mengerjakan, mengetahui, menggunakan, menghendaki, mengibaratkan, mengibaratkannya, mengingat, mengingatkan, menginginkan, mengira, mengucapkan, mengucapkannya, mengungkapkan, menjadi, menjawab, menjelaskan, menuju, menunjuk, menunjuki, menunjukkan, menunjuknya, menurut, menuturkan, menyampaikan, menyangkut, menyatakan, menyebutkan, menyeluruh, menyiapkan, merasa, mereka, merekalah, merupakan, meski, meskipun, meyakini, meyakinkan, minta, mirip, misal, misalkan, misalnya, mula, mulai, mulailah, mulanya, mungkin, mungkinkah, nah, naik, namun, nanti, nantinya, nyaris, nyatanya, oleh, olehnya, pada, padahal, padanya, pak, paling, panjang, pantas, para, pasti, pastilah, penting, pentingnya, per, percuma, perlu, perlukah, perlunya, pernah, persoalan, pertama, pertama-tama, pertanyaan, pertanyakan, pihak, pihaknya, pukul, pula, pun, punya, rasa, rasanya, rata, rupanya, saat, saatnya, saja, sajalah, saling, sama, sama-sama, sambil, sampai, sampai-sampai, sampaikan, sana, sangat, sangatlah, satu, saya, sayalah, se, sebab, sebabnya, sebagai, sebagaimana, sebagainya, sebagian, sebaik, sebaik-baiknya, sebaiknya, sebaliknya, sebanyak, sebegini, sebegitu, sebelum, sebelumnya, sebenarnya, seberapa, sebesar, sebetulnya, sebisanya, sebuah, sebut, sebutlah, sebutnya, secara, secukupnya, sedang, sedangkan, sedemikian, sedikit, sedikitnya, seenaknya, segala, segalanya, segera, seharusnya, sehingga, seingat, sejak, sejauh, sejenak, sejumlah, sekadar, sekadarnya, sekali, sekali-kali, sekalian, sekaligus, sekalipun, sekarang, sekarang, sekecil, seketika, sekiranya, sekitar, sekitarnya, sekurang-kurangnya, sekurangnya, sela, selain, selaku, selalu, selama, selama-lamanya, selamanya, selanjutnya, seluruh, seluruhnya, semacam, semakin, semampu, semampunya, semasa, semasih, semata, semata-mata, semaunya, sementara, semisal, semisalnya, sempat, semua, semuanya, semula, sendiri, sendirian, sendirinya, seolah, seolah-olah, seorang, sepanjang, sepantasnya, sepantasnyalah, seperlunya, seperti, sepertinya, sepihak, sering, seringnya, serta, serupa, sesaat, sesama, sesampai, sesegera, sesekali, seseorang, sesuatu, sesuatunya, sesudah, sesudahnya, setelah, setempat, setengah, seterusnya, setiap, setiba, setibanya, setidak-tidaknya, setidaknya, setinggi, seusai, sewaktu, siap, siapa, siapakah, siapapun, sini, sinilah, soal, soalnya, suatu, sudah, sudahkah, sudahlah, supaya, tadi, tadinya, tahu, tahun, tak, tambah, tambahnya, tampak, tampaknya, tandas, tandasnya, tanpa, tanya, tanyakan, tanyanya, tapi, tegas, tegasnya, telah, tempat, tengah, tentang, tentu, tentulah, tentunya, tepat, terakhir, terasa, terbanyak, terdahulu, terdapat, terdiri, terhadap, terhadapnya, teringat, teringat-ingat, terjadi, terjadilah, terjadinya, terkira, terlalu, terlebih, terlihat, termasuk, ternyata, tersampaikan, tersebut, tersebutlah, tertentu, tertuju, terus, terutama, tetap, tetapi, tiap, tiba, tiba-tiba, tidak, tidakkah, tidaklah, tiga, tinggi, toh, tunjuk, turut, tutur, tuturnya, ucap, ucapnya, ujar, ujarnya, umum, umumnya, ungkap, ungkapnya, untuk, usah, usai, waduh, wah, wahai, waktu, waktunya, walau, walaupun, wong, yaitu, yakin, yakni, yang'"
      ]
     },
     "execution_count": 4,
     "metadata": {},
     "output_type": "execute_result"
    }
   ],
   "source": [
    "from nltk.corpus import stopwords\n",
    "\", \".join(stopwords.words('indonesian'))"
   ]
  },
  {
   "cell_type": "code",
   "execution_count": 5,
   "id": "edaed9cf",
   "metadata": {
    "execution": {
     "iopub.execute_input": "2022-06-09T05:33:40.360565Z",
     "iopub.status.busy": "2022-06-09T05:33:40.360339Z",
     "iopub.status.idle": "2022-06-09T05:33:40.373164Z",
     "shell.execute_reply": "2022-06-09T05:33:40.372398Z"
    },
    "papermill": {
     "duration": 0.029177,
     "end_time": "2022-06-09T05:33:40.374878",
     "exception": false,
     "start_time": "2022-06-09T05:33:40.345701",
     "status": "completed"
    },
    "tags": []
   },
   "outputs": [
    {
     "data": {
      "text/html": [
       "<div>\n",
       "<style scoped>\n",
       "    .dataframe tbody tr th:only-of-type {\n",
       "        vertical-align: middle;\n",
       "    }\n",
       "\n",
       "    .dataframe tbody tr th {\n",
       "        vertical-align: top;\n",
       "    }\n",
       "\n",
       "    .dataframe thead th {\n",
       "        text-align: right;\n",
       "    }\n",
       "</style>\n",
       "<table border=\"1\" class=\"dataframe\">\n",
       "  <thead>\n",
       "    <tr style=\"text-align: right;\">\n",
       "      <th></th>\n",
       "      <th>Date</th>\n",
       "      <th>Scrapped</th>\n",
       "      <th>scraped_wo_punct</th>\n",
       "    </tr>\n",
       "  </thead>\n",
       "  <tbody>\n",
       "    <tr>\n",
       "      <th>0</th>\n",
       "      <td>30/04/2022</td>\n",
       "      <td>apple tak lagi jadi merek smartphone nomor sat...</td>\n",
       "      <td>apple merek smartphone nomor - kompas ...https...</td>\n",
       "    </tr>\n",
       "  </tbody>\n",
       "</table>\n",
       "</div>"
      ],
      "text/plain": [
       "         Date                                           Scrapped  \\\n",
       "0  30/04/2022  apple tak lagi jadi merek smartphone nomor sat...   \n",
       "\n",
       "                                    scraped_wo_punct  \n",
       "0  apple merek smartphone nomor - kompas ...https...  "
      ]
     },
     "execution_count": 5,
     "metadata": {},
     "output_type": "execute_result"
    }
   ],
   "source": [
    "STOPWORDS = set(stopwords.words('indonesian'))\n",
    "def remove_stopwords(text):\n",
    "    \"\"\"custom function to remove the stopwords\"\"\"\n",
    "    return \" \".join([word for word in str(text).split() if word not in STOPWORDS])\n",
    "\n",
    "df[\"scraped_wo_punct\"] = df[\"Scrapped\"].apply(lambda text: remove_stopwords(text))\n",
    "df.head()"
   ]
  },
  {
   "cell_type": "code",
   "execution_count": 6,
   "id": "04afa0d6",
   "metadata": {
    "execution": {
     "iopub.execute_input": "2022-06-09T05:33:40.405596Z",
     "iopub.status.busy": "2022-06-09T05:33:40.405409Z",
     "iopub.status.idle": "2022-06-09T05:33:40.410769Z",
     "shell.execute_reply": "2022-06-09T05:33:40.410151Z"
    },
    "papermill": {
     "duration": 0.023105,
     "end_time": "2022-06-09T05:33:40.412510",
     "exception": false,
     "start_time": "2022-06-09T05:33:40.389405",
     "status": "completed"
    },
    "tags": []
   },
   "outputs": [
    {
     "data": {
      "text/plain": [
       "''"
      ]
     },
     "execution_count": 6,
     "metadata": {},
     "output_type": "execute_result"
    }
   ],
   "source": [
    "import re\n",
    "def remove_urls(text):\n",
    "    url_pattern = re.compile(r'https?://\\S+|www\\.\\S+')\n",
    "    return url_pattern.sub(r'', text)\n",
    "\n",
    "text = \"https://indeks.kompas.com\"\n",
    "remove_urls(text)"
   ]
  },
  {
   "cell_type": "code",
   "execution_count": 7,
   "id": "ca9f6c0b",
   "metadata": {
    "execution": {
     "iopub.execute_input": "2022-06-09T05:33:40.443752Z",
     "iopub.status.busy": "2022-06-09T05:33:40.443566Z",
     "iopub.status.idle": "2022-06-09T05:33:52.771052Z",
     "shell.execute_reply": "2022-06-09T05:33:52.770271Z"
    },
    "papermill": {
     "duration": 12.345672,
     "end_time": "2022-06-09T05:33:52.773565",
     "exception": false,
     "start_time": "2022-06-09T05:33:40.427893",
     "status": "completed"
    },
    "tags": []
   },
   "outputs": [
    {
     "name": "stdout",
     "output_type": "stream",
     "text": [
      "Collecting openpyxl\r\n",
      "  Downloading openpyxl-3.0.10-py2.py3-none-any.whl (242 kB)\r\n",
      "\u001b[2K     \u001b[90m━━━━━━━━━━━━━━━━━━━━━━━━━━━━━━━━━━━━━━━\u001b[0m \u001b[32m242.1/242.1 KB\u001b[0m \u001b[31m1.0 MB/s\u001b[0m eta \u001b[36m0:00:00\u001b[0m\r\n",
      "\u001b[?25hCollecting et-xmlfile\r\n",
      "  Downloading et_xmlfile-1.1.0-py3-none-any.whl (4.7 kB)\r\n",
      "Installing collected packages: et-xmlfile, openpyxl\r\n",
      "Successfully installed et-xmlfile-1.1.0 openpyxl-3.0.10\r\n",
      "\u001b[33mWARNING: Running pip as the 'root' user can result in broken permissions and conflicting behaviour with the system package manager. It is recommended to use a virtual environment instead: https://pip.pypa.io/warnings/venv\u001b[0m\u001b[33m\r\n",
      "\u001b[0m"
     ]
    }
   ],
   "source": [
    "!pip install openpyxl\n",
    "\n",
    "df.to_excel('out.xlsx', index=True)"
   ]
  },
  {
   "cell_type": "code",
   "execution_count": 8,
   "id": "3ff772be",
   "metadata": {
    "execution": {
     "iopub.execute_input": "2022-06-09T05:33:52.813291Z",
     "iopub.status.busy": "2022-06-09T05:33:52.812572Z",
     "iopub.status.idle": "2022-06-09T05:33:53.115709Z",
     "shell.execute_reply": "2022-06-09T05:33:53.114972Z"
    },
    "papermill": {
     "duration": 0.323924,
     "end_time": "2022-06-09T05:33:53.117494",
     "exception": false,
     "start_time": "2022-06-09T05:33:52.793570",
     "status": "completed"
    },
    "tags": []
   },
   "outputs": [
    {
     "name": "stdout",
     "output_type": "stream",
     "text": [
      "[nltk_data] Downloading package stopwords to /usr/share/nltk_data...\n",
      "[nltk_data]   Package stopwords is already up-to-date!\n",
      "[nltk_data] Downloading package punkt to /usr/share/nltk_data...\n",
      "[nltk_data]   Package punkt is already up-to-date!\n",
      "[nltk_data] Downloading package wordnet to /usr/share/nltk_data...\n",
      "[nltk_data]   Package wordnet is already up-to-date!\n"
     ]
    },
    {
     "data": {
      "text/plain": [
       "True"
      ]
     },
     "execution_count": 8,
     "metadata": {},
     "output_type": "execute_result"
    }
   ],
   "source": [
    "import nltk\n",
    "from nltk.corpus import stopwords  #stopwords\n",
    "from nltk.stem import WordNetLemmatizer  \n",
    "from sklearn.feature_extraction.text import TfidfVectorizer\n",
    "from nltk.tokenize import word_tokenize\n",
    "nltk.download('stopwords')\n",
    "nltk.download('punkt')\n",
    "nltk.download('wordnet')"
   ]
  },
  {
   "cell_type": "code",
   "execution_count": 9,
   "id": "1fb8a85f",
   "metadata": {
    "execution": {
     "iopub.execute_input": "2022-06-09T05:33:53.156803Z",
     "iopub.status.busy": "2022-06-09T05:33:53.156161Z",
     "iopub.status.idle": "2022-06-09T05:33:53.161333Z",
     "shell.execute_reply": "2022-06-09T05:33:53.160682Z"
    },
    "papermill": {
     "duration": 0.027087,
     "end_time": "2022-06-09T05:33:53.163084",
     "exception": false,
     "start_time": "2022-06-09T05:33:53.135997",
     "status": "completed"
    },
    "tags": []
   },
   "outputs": [],
   "source": [
    "stop_words=set(nltk.corpus.stopwords.words('indonesian'))"
   ]
  },
  {
   "cell_type": "code",
   "execution_count": 10,
   "id": "996169c2",
   "metadata": {
    "execution": {
     "iopub.execute_input": "2022-06-09T05:33:53.200945Z",
     "iopub.status.busy": "2022-06-09T05:33:53.200366Z",
     "iopub.status.idle": "2022-06-09T05:33:53.208974Z",
     "shell.execute_reply": "2022-06-09T05:33:53.208321Z"
    },
    "papermill": {
     "duration": 0.029479,
     "end_time": "2022-06-09T05:33:53.210755",
     "exception": false,
     "start_time": "2022-06-09T05:33:53.181276",
     "status": "completed"
    },
    "tags": []
   },
   "outputs": [
    {
     "data": {
      "text/html": [
       "<div>\n",
       "<style scoped>\n",
       "    .dataframe tbody tr th:only-of-type {\n",
       "        vertical-align: middle;\n",
       "    }\n",
       "\n",
       "    .dataframe tbody tr th {\n",
       "        vertical-align: top;\n",
       "    }\n",
       "\n",
       "    .dataframe thead th {\n",
       "        text-align: right;\n",
       "    }\n",
       "</style>\n",
       "<table border=\"1\" class=\"dataframe\">\n",
       "  <thead>\n",
       "    <tr style=\"text-align: right;\">\n",
       "      <th></th>\n",
       "      <th>Date</th>\n",
       "      <th>Scrapped</th>\n",
       "      <th>scraped_wo_punct</th>\n",
       "    </tr>\n",
       "  </thead>\n",
       "  <tbody>\n",
       "    <tr>\n",
       "      <th>0</th>\n",
       "      <td>30/04/2022</td>\n",
       "      <td>apple tak lagi jadi merek smartphone nomor sat...</td>\n",
       "      <td>apple merek smartphone nomor - kompas ...https...</td>\n",
       "    </tr>\n",
       "  </tbody>\n",
       "</table>\n",
       "</div>"
      ],
      "text/plain": [
       "         Date                                           Scrapped  \\\n",
       "0  30/04/2022  apple tak lagi jadi merek smartphone nomor sat...   \n",
       "\n",
       "                                    scraped_wo_punct  \n",
       "0  apple merek smartphone nomor - kompas ...https...  "
      ]
     },
     "execution_count": 10,
     "metadata": {},
     "output_type": "execute_result"
    }
   ],
   "source": [
    "df"
   ]
  },
  {
   "cell_type": "code",
   "execution_count": 11,
   "id": "82a82386",
   "metadata": {
    "execution": {
     "iopub.execute_input": "2022-06-09T05:33:53.249162Z",
     "iopub.status.busy": "2022-06-09T05:33:53.248746Z",
     "iopub.status.idle": "2022-06-09T05:33:53.265582Z",
     "shell.execute_reply": "2022-06-09T05:33:53.264556Z"
    },
    "papermill": {
     "duration": 0.037967,
     "end_time": "2022-06-09T05:33:53.267477",
     "exception": false,
     "start_time": "2022-06-09T05:33:53.229510",
     "status": "completed"
    },
    "tags": []
   },
   "outputs": [
    {
     "name": "stderr",
     "output_type": "stream",
     "text": [
      "/opt/conda/lib/python3.7/site-packages/sklearn/feature_extraction/text.py:401: UserWarning: Your stop_words may be inconsistent with your preprocessing. Tokenizing the stop words generated tokens ['baiknya', 'berkali', 'kali', 'kurangnya', 'mata', 'olah', 'sekurang', 'setidak', 'tama', 'tidaknya'] not in stop_words.\n",
      "  % sorted(inconsistent)\n"
     ]
    }
   ],
   "source": [
    "vect =TfidfVectorizer(stop_words=stop_words,max_features=1000)\n",
    "vect_text=vect.fit_transform(df['scraped_wo_punct'])"
   ]
  },
  {
   "cell_type": "code",
   "execution_count": 12,
   "id": "5dd26011",
   "metadata": {
    "execution": {
     "iopub.execute_input": "2022-06-09T05:33:53.307173Z",
     "iopub.status.busy": "2022-06-09T05:33:53.306779Z",
     "iopub.status.idle": "2022-06-09T05:33:53.338298Z",
     "shell.execute_reply": "2022-06-09T05:33:53.337304Z"
    },
    "papermill": {
     "duration": 0.053717,
     "end_time": "2022-06-09T05:33:53.340599",
     "exception": false,
     "start_time": "2022-06-09T05:33:53.286882",
     "status": "completed"
    },
    "tags": []
   },
   "outputs": [
    {
     "name": "stderr",
     "output_type": "stream",
     "text": [
      "/opt/conda/lib/python3.7/site-packages/sklearn/decomposition/_lda.py:861: RuntimeWarning: overflow encountered in exp\n",
      "  return np.exp(-1.0 * perword_bound)\n"
     ]
    }
   ],
   "source": [
    "from sklearn.decomposition import LatentDirichletAllocation\n",
    "lda_model=LatentDirichletAllocation(n_components=10,\n",
    "learning_method='online',random_state=42,max_iter=1) \n",
    "lda_top=lda_model.fit_transform(vect_text)"
   ]
  },
  {
   "cell_type": "code",
   "execution_count": 13,
   "id": "37d033f1",
   "metadata": {
    "execution": {
     "iopub.execute_input": "2022-06-09T05:33:53.381446Z",
     "iopub.status.busy": "2022-06-09T05:33:53.380987Z",
     "iopub.status.idle": "2022-06-09T05:33:53.392038Z",
     "shell.execute_reply": "2022-06-09T05:33:53.390942Z"
    },
    "papermill": {
     "duration": 0.033208,
     "end_time": "2022-06-09T05:33:53.394124",
     "exception": false,
     "start_time": "2022-06-09T05:33:53.360916",
     "status": "completed"
    },
    "tags": []
   },
   "outputs": [
    {
     "name": "stdout",
     "output_type": "stream",
     "text": [
      "Document 0: \n",
      "Topic  0 :  0.9336981827867493 %\n",
      "Topic  1 :  0.9337012838576633 %\n",
      "Topic  2 :  0.9336959724903192 %\n",
      "Topic  3 :  0.9337080514094671 %\n",
      "Topic  4 :  0.9337022266349488 %\n",
      "Topic  5 :  91.59669974087215 %\n",
      "Topic  6 :  0.9337002869742949 %\n",
      "Topic  7 :  0.9336962662432743 %\n",
      "Topic  8 :  0.9336945259274545 %\n",
      "Topic  9 :  0.9337034628036802 %\n"
     ]
    }
   ],
   "source": [
    "print(\"Document 0: \")\n",
    "for i,topic in enumerate(lda_top[0]):\n",
    "  print(\"Topic \",i,\": \",topic*100,\"%\")"
   ]
  },
  {
   "cell_type": "code",
   "execution_count": 14,
   "id": "e875df17",
   "metadata": {
    "execution": {
     "iopub.execute_input": "2022-06-09T05:33:53.434770Z",
     "iopub.status.busy": "2022-06-09T05:33:53.434585Z",
     "iopub.status.idle": "2022-06-09T05:33:53.463955Z",
     "shell.execute_reply": "2022-06-09T05:33:53.463098Z"
    },
    "papermill": {
     "duration": 0.051576,
     "end_time": "2022-06-09T05:33:53.465867",
     "exception": false,
     "start_time": "2022-06-09T05:33:53.414291",
     "status": "completed"
    },
    "tags": []
   },
   "outputs": [
    {
     "name": "stdout",
     "output_type": "stream",
     "text": [
      "\n",
      "Topic 0: \n",
      "babak until inventories was menghadirkan spanyol 88341 rajai bawa help \n",
      "Topic 1: \n",
      "still netral pasar 55 online gamers minggu ba indosat hoaks \n",
      "Topic 2: \n",
      "gr diklaim frosted grab downloads 2011 bunga berlapis public being \n",
      "Topic 3: \n",
      "capai anne fossil oppo 30 publication susul youtube lupa comirnaty \n",
      "Topic 4: \n",
      "hp 30 sule listrik uang japan harga bagikan oppo halaman \n",
      "Topic 5: \n",
      "chapple 08 terbaru id dprdhttps bergabung europa dirangkum 2http ponsel \n",
      "Topic 6: \n",
      "quizhttps papua minggu artikel nama pub 50 didapatkan aktif pokemon \n",
      "Topic 7: \n",
      "having official grid pdf diterima mengunggah sales gr aktif tag \n",
      "Topic 8: \n",
      "ac hentikan gen story messe fb ig pandemichttps teknohttps grid \n",
      "Topic 9: \n",
      "kompas pasar purna that dok penggunaan diler om tempo dpr "
     ]
    },
    {
     "name": "stderr",
     "output_type": "stream",
     "text": [
      "/opt/conda/lib/python3.7/site-packages/sklearn/utils/deprecation.py:87: FutureWarning: Function get_feature_names is deprecated; get_feature_names is deprecated in 1.0 and will be removed in 1.2. Please use get_feature_names_out instead.\n",
      "  warnings.warn(msg, category=FutureWarning)\n"
     ]
    }
   ],
   "source": [
    "vocab = vect.get_feature_names()\n",
    "for i, comp in enumerate(lda_model.components_):\n",
    "     vocab_comp = zip(vocab, comp)\n",
    "     sorted_words = sorted(vocab_comp, key= lambda x:x[1], reverse=True)[:10]\n",
    "     print(\"\")\n",
    "     print(\"Topic \"+str(i)+\": \")\n",
    "     for t in sorted_words:\n",
    "            print(t[0],end=\" \")"
   ]
  },
  {
   "cell_type": "markdown",
   "id": "c38cc3ce",
   "metadata": {
    "papermill": {
     "duration": 0.020258,
     "end_time": "2022-06-09T05:33:53.506486",
     "exception": false,
     "start_time": "2022-06-09T05:33:53.486228",
     "status": "completed"
    },
    "tags": []
   },
   "source": []
  }
 ],
 "metadata": {
  "kernelspec": {
   "display_name": "Python 3",
   "language": "python",
   "name": "python3"
  },
  "language_info": {
   "codemirror_mode": {
    "name": "ipython",
    "version": 3
   },
   "file_extension": ".py",
   "mimetype": "text/x-python",
   "name": "python",
   "nbconvert_exporter": "python",
   "pygments_lexer": "ipython3",
   "version": "3.7.12"
  },
  "papermill": {
   "default_parameters": {},
   "duration": 23.362689,
   "end_time": "2022-06-09T05:33:54.146346",
   "environment_variables": {},
   "exception": null,
   "input_path": "__notebook__.ipynb",
   "output_path": "__notebook__.ipynb",
   "parameters": {},
   "start_time": "2022-06-09T05:33:30.783657",
   "version": "2.3.4"
  }
 },
 "nbformat": 4,
 "nbformat_minor": 5
}
