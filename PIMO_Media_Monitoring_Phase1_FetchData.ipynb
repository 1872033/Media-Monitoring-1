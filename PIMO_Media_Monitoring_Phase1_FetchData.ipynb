{
  "cells": [
    {
      "cell_type": "code",
      "execution_count": null,
      "metadata": {
        "colab": {
          "base_uri": "https://localhost:8080/"
        },
        "id": "uUHbvm4lC9Pi",
        "outputId": "0ec16676-7e0f-4a55-aee1-2734b72b0c3e"
      },
      "outputs": [
        {
          "output_type": "stream",
          "name": "stdout",
          "text": [
            "Sat May  7 12:39:53 2022       \n",
            "+-----------------------------------------------------------------------------+\n",
            "| NVIDIA-SMI 460.32.03    Driver Version: 460.32.03    CUDA Version: 11.2     |\n",
            "|-------------------------------+----------------------+----------------------+\n",
            "| GPU  Name        Persistence-M| Bus-Id        Disp.A | Volatile Uncorr. ECC |\n",
            "| Fan  Temp  Perf  Pwr:Usage/Cap|         Memory-Usage | GPU-Util  Compute M. |\n",
            "|                               |                      |               MIG M. |\n",
            "|===============================+======================+======================|\n",
            "|   0  Tesla K80           Off  | 00000000:00:04.0 Off |                    0 |\n",
            "| N/A   54C    P8    30W / 149W |      0MiB / 11441MiB |      0%      Default |\n",
            "|                               |                      |                  N/A |\n",
            "+-------------------------------+----------------------+----------------------+\n",
            "                                                                               \n",
            "+-----------------------------------------------------------------------------+\n",
            "| Processes:                                                                  |\n",
            "|  GPU   GI   CI        PID   Type   Process name                  GPU Memory |\n",
            "|        ID   ID                                                   Usage      |\n",
            "|=============================================================================|\n",
            "|  No running processes found                                                 |\n",
            "+-----------------------------------------------------------------------------+\n"
          ]
        }
      ],
      "source": [
        "!nvidia-smi"
      ]
    },
    {
      "cell_type": "code",
      "execution_count": null,
      "metadata": {
        "colab": {
          "base_uri": "https://localhost:8080/"
        },
        "id": "7JsizLDrRJM2",
        "outputId": "7b25acd2-4c2b-4e68-e8af-c0d67015dc8e"
      },
      "outputs": [
        {
          "output_type": "stream",
          "name": "stdout",
          "text": [
            "Looking in indexes: https://pypi.org/simple, https://us-python.pkg.dev/colab-wheels/public/simple/\n",
            "Requirement already satisfied: tweepy in /usr/local/lib/python3.7/dist-packages (3.10.0)\n",
            "Requirement already satisfied: requests-oauthlib>=0.7.0 in /usr/local/lib/python3.7/dist-packages (from tweepy) (1.3.1)\n",
            "Requirement already satisfied: six>=1.10.0 in /usr/local/lib/python3.7/dist-packages (from tweepy) (1.15.0)\n",
            "Requirement already satisfied: requests[socks]>=2.11.1 in /usr/local/lib/python3.7/dist-packages (from tweepy) (2.23.0)\n",
            "Requirement already satisfied: oauthlib>=3.0.0 in /usr/local/lib/python3.7/dist-packages (from requests-oauthlib>=0.7.0->tweepy) (3.2.0)\n",
            "Requirement already satisfied: idna<3,>=2.5 in /usr/local/lib/python3.7/dist-packages (from requests[socks]>=2.11.1->tweepy) (2.10)\n",
            "Requirement already satisfied: urllib3!=1.25.0,!=1.25.1,<1.26,>=1.21.1 in /usr/local/lib/python3.7/dist-packages (from requests[socks]>=2.11.1->tweepy) (1.24.3)\n",
            "Requirement already satisfied: certifi>=2017.4.17 in /usr/local/lib/python3.7/dist-packages (from requests[socks]>=2.11.1->tweepy) (2022.5.18.1)\n",
            "Requirement already satisfied: chardet<4,>=3.0.2 in /usr/local/lib/python3.7/dist-packages (from requests[socks]>=2.11.1->tweepy) (3.0.4)\n",
            "Requirement already satisfied: PySocks!=1.5.7,>=1.5.6 in /usr/local/lib/python3.7/dist-packages (from requests[socks]>=2.11.1->tweepy) (1.7.1)\n"
          ]
        }
      ],
      "source": [
        "pip install tweepy"
      ]
    },
    {
      "cell_type": "code",
      "execution_count": null,
      "metadata": {
        "id": "Zp7UrrtZITPr"
      },
      "outputs": [],
      "source": [
        "# import tweepy\n",
        "import tweepy as tw\n",
        "# your Twitter API key and API secret\n",
        "my_api_key = \"zyHUhrv4ityGqHDFWfQk9FKMq\"\n",
        "my_api_secret = \"XNs6pzHTpXLoguzuuBB0JIe6ewhC9x1n8zV9WZu5Wk4MQGyWz9\"\n",
        "# authenticate\n",
        "auth = tw.OAuthHandler(my_api_key, my_api_secret)\n",
        "api = tw.API(auth, wait_on_rate_limit=True)"
      ]
    },
    {
      "cell_type": "code",
      "execution_count": null,
      "metadata": {
        "colab": {
          "base_uri": "https://localhost:8080/"
        },
        "id": "JFbdZVNKNkAL",
        "outputId": "ef4d51d5-e75d-4b85-fb7b-c85085918163"
      },
      "outputs": [
        {
          "output_type": "stream",
          "name": "stdout",
          "text": [
            "Total Tweets fetched: 2500\n"
          ]
        }
      ],
      "source": [
        "search_query = \" -filter:retweets\"\n",
        "# get tweets from the API\n",
        "tweets = tw.Cursor(api.search,\n",
        "              q=search_query,\n",
        "              lang=\"en\",\n",
        "              since=\"2022-05-24\").items(2500)#tanggal diganti sama tanggal hari tsb\n",
        "# store the API responses in a list\n",
        "tweets_copy = []\n",
        "for tweet in tweets:\n",
        "    tweets_copy.append(tweet)\n",
        "    \n",
        "print(\"Total Tweets fetched:\", len(tweets_copy))"
      ]
    },
    {
      "cell_type": "code",
      "execution_count": null,
      "metadata": {
        "id": "ziyIYV2PXPjZ"
      },
      "outputs": [],
      "source": [
        ""
      ]
    },
    {
      "cell_type": "code",
      "execution_count": null,
      "metadata": {
        "colab": {
          "base_uri": "https://localhost:8080/",
          "height": 250
        },
        "id": "90PwD6UFOFwj",
        "outputId": "9242e7ca-2330-4b89-85e7-664c08ab5eb0"
      },
      "outputs": [
        {
          "output_type": "execute_result",
          "data": {
            "text/plain": [
              "              user_name user_location  \\\n",
              "0    💧Brendan Quinlivan                 \n",
              "1          FLATSEVEN_US                 \n",
              "2               Peaches                 \n",
              "3  Mittens the Kitten 😼                 \n",
              "4              syafira.                 \n",
              "\n",
              "                                    user_description  user_verified  \\\n",
              "0                                                             False   \n",
              "1                                       FLATSEVEN_US          False   \n",
              "2                              My own little corner.          False   \n",
              "3  I'm Mittens the Kitten!\\nI'm here to kick butt...          False   \n",
              "4  liverpool, red velvet, stephen strange enthusi...          False   \n",
              "\n",
              "                 date                                               text  \\\n",
              "0 2022-05-24 01:21:02              @MyFirstCousin In this case, sworn at   \n",
              "1 2022-05-24 01:21:02  FLATSEVEN Mens Slim Fit Dress Shirts with Tie ...   \n",
              "2 2022-05-24 01:21:02  See I’ve experienced niggas telling me they lo...   \n",
              "3 2022-05-24 01:21:02         ...like that rock? https://t.co/xjVPGxxpml   \n",
              "4 2022-05-24 01:21:02           where's the trailer hello @MarvelStudios   \n",
              "\n",
              "  hashtags               source  \n",
              "0     None   Twitter for iPhone  \n",
              "1     None         twittbot.net  \n",
              "2     None   Twitter for iPhone  \n",
              "3     None  Twitter for Android  \n",
              "4     None  Twitter for Android  "
            ],
            "text/html": [
              "\n",
              "  <div id=\"df-b1f2a9f2-cd3b-4c01-8c38-fb0036b6c849\">\n",
              "    <div class=\"colab-df-container\">\n",
              "      <div>\n",
              "<style scoped>\n",
              "    .dataframe tbody tr th:only-of-type {\n",
              "        vertical-align: middle;\n",
              "    }\n",
              "\n",
              "    .dataframe tbody tr th {\n",
              "        vertical-align: top;\n",
              "    }\n",
              "\n",
              "    .dataframe thead th {\n",
              "        text-align: right;\n",
              "    }\n",
              "</style>\n",
              "<table border=\"1\" class=\"dataframe\">\n",
              "  <thead>\n",
              "    <tr style=\"text-align: right;\">\n",
              "      <th></th>\n",
              "      <th>user_name</th>\n",
              "      <th>user_location</th>\n",
              "      <th>user_description</th>\n",
              "      <th>user_verified</th>\n",
              "      <th>date</th>\n",
              "      <th>text</th>\n",
              "      <th>hashtags</th>\n",
              "      <th>source</th>\n",
              "    </tr>\n",
              "  </thead>\n",
              "  <tbody>\n",
              "    <tr>\n",
              "      <th>0</th>\n",
              "      <td>💧Brendan Quinlivan</td>\n",
              "      <td></td>\n",
              "      <td></td>\n",
              "      <td>False</td>\n",
              "      <td>2022-05-24 01:21:02</td>\n",
              "      <td>@MyFirstCousin In this case, sworn at</td>\n",
              "      <td>None</td>\n",
              "      <td>Twitter for iPhone</td>\n",
              "    </tr>\n",
              "    <tr>\n",
              "      <th>1</th>\n",
              "      <td>FLATSEVEN_US</td>\n",
              "      <td></td>\n",
              "      <td>FLATSEVEN_US</td>\n",
              "      <td>False</td>\n",
              "      <td>2022-05-24 01:21:02</td>\n",
              "      <td>FLATSEVEN Mens Slim Fit Dress Shirts with Tie ...</td>\n",
              "      <td>None</td>\n",
              "      <td>twittbot.net</td>\n",
              "    </tr>\n",
              "    <tr>\n",
              "      <th>2</th>\n",
              "      <td>Peaches</td>\n",
              "      <td></td>\n",
              "      <td>My own little corner.</td>\n",
              "      <td>False</td>\n",
              "      <td>2022-05-24 01:21:02</td>\n",
              "      <td>See I’ve experienced niggas telling me they lo...</td>\n",
              "      <td>None</td>\n",
              "      <td>Twitter for iPhone</td>\n",
              "    </tr>\n",
              "    <tr>\n",
              "      <th>3</th>\n",
              "      <td>Mittens the Kitten 😼</td>\n",
              "      <td></td>\n",
              "      <td>I'm Mittens the Kitten!\\nI'm here to kick butt...</td>\n",
              "      <td>False</td>\n",
              "      <td>2022-05-24 01:21:02</td>\n",
              "      <td>...like that rock? https://t.co/xjVPGxxpml</td>\n",
              "      <td>None</td>\n",
              "      <td>Twitter for Android</td>\n",
              "    </tr>\n",
              "    <tr>\n",
              "      <th>4</th>\n",
              "      <td>syafira.</td>\n",
              "      <td></td>\n",
              "      <td>liverpool, red velvet, stephen strange enthusi...</td>\n",
              "      <td>False</td>\n",
              "      <td>2022-05-24 01:21:02</td>\n",
              "      <td>where's the trailer hello @MarvelStudios</td>\n",
              "      <td>None</td>\n",
              "      <td>Twitter for Android</td>\n",
              "    </tr>\n",
              "  </tbody>\n",
              "</table>\n",
              "</div>\n",
              "      <button class=\"colab-df-convert\" onclick=\"convertToInteractive('df-b1f2a9f2-cd3b-4c01-8c38-fb0036b6c849')\"\n",
              "              title=\"Convert this dataframe to an interactive table.\"\n",
              "              style=\"display:none;\">\n",
              "        \n",
              "  <svg xmlns=\"http://www.w3.org/2000/svg\" height=\"24px\"viewBox=\"0 0 24 24\"\n",
              "       width=\"24px\">\n",
              "    <path d=\"M0 0h24v24H0V0z\" fill=\"none\"/>\n",
              "    <path d=\"M18.56 5.44l.94 2.06.94-2.06 2.06-.94-2.06-.94-.94-2.06-.94 2.06-2.06.94zm-11 1L8.5 8.5l.94-2.06 2.06-.94-2.06-.94L8.5 2.5l-.94 2.06-2.06.94zm10 10l.94 2.06.94-2.06 2.06-.94-2.06-.94-.94-2.06-.94 2.06-2.06.94z\"/><path d=\"M17.41 7.96l-1.37-1.37c-.4-.4-.92-.59-1.43-.59-.52 0-1.04.2-1.43.59L10.3 9.45l-7.72 7.72c-.78.78-.78 2.05 0 2.83L4 21.41c.39.39.9.59 1.41.59.51 0 1.02-.2 1.41-.59l7.78-7.78 2.81-2.81c.8-.78.8-2.07 0-2.86zM5.41 20L4 18.59l7.72-7.72 1.47 1.35L5.41 20z\"/>\n",
              "  </svg>\n",
              "      </button>\n",
              "      \n",
              "  <style>\n",
              "    .colab-df-container {\n",
              "      display:flex;\n",
              "      flex-wrap:wrap;\n",
              "      gap: 12px;\n",
              "    }\n",
              "\n",
              "    .colab-df-convert {\n",
              "      background-color: #E8F0FE;\n",
              "      border: none;\n",
              "      border-radius: 50%;\n",
              "      cursor: pointer;\n",
              "      display: none;\n",
              "      fill: #1967D2;\n",
              "      height: 32px;\n",
              "      padding: 0 0 0 0;\n",
              "      width: 32px;\n",
              "    }\n",
              "\n",
              "    .colab-df-convert:hover {\n",
              "      background-color: #E2EBFA;\n",
              "      box-shadow: 0px 1px 2px rgba(60, 64, 67, 0.3), 0px 1px 3px 1px rgba(60, 64, 67, 0.15);\n",
              "      fill: #174EA6;\n",
              "    }\n",
              "\n",
              "    [theme=dark] .colab-df-convert {\n",
              "      background-color: #3B4455;\n",
              "      fill: #D2E3FC;\n",
              "    }\n",
              "\n",
              "    [theme=dark] .colab-df-convert:hover {\n",
              "      background-color: #434B5C;\n",
              "      box-shadow: 0px 1px 3px 1px rgba(0, 0, 0, 0.15);\n",
              "      filter: drop-shadow(0px 1px 2px rgba(0, 0, 0, 0.3));\n",
              "      fill: #FFFFFF;\n",
              "    }\n",
              "  </style>\n",
              "\n",
              "      <script>\n",
              "        const buttonEl =\n",
              "          document.querySelector('#df-b1f2a9f2-cd3b-4c01-8c38-fb0036b6c849 button.colab-df-convert');\n",
              "        buttonEl.style.display =\n",
              "          google.colab.kernel.accessAllowed ? 'block' : 'none';\n",
              "\n",
              "        async function convertToInteractive(key) {\n",
              "          const element = document.querySelector('#df-b1f2a9f2-cd3b-4c01-8c38-fb0036b6c849');\n",
              "          const dataTable =\n",
              "            await google.colab.kernel.invokeFunction('convertToInteractive',\n",
              "                                                     [key], {});\n",
              "          if (!dataTable) return;\n",
              "\n",
              "          const docLinkHtml = 'Like what you see? Visit the ' +\n",
              "            '<a target=\"_blank\" href=https://colab.research.google.com/notebooks/data_table.ipynb>data table notebook</a>'\n",
              "            + ' to learn more about interactive tables.';\n",
              "          element.innerHTML = '';\n",
              "          dataTable['output_type'] = 'display_data';\n",
              "          await google.colab.output.renderOutput(dataTable, element);\n",
              "          const docLink = document.createElement('div');\n",
              "          docLink.innerHTML = docLinkHtml;\n",
              "          element.appendChild(docLink);\n",
              "        }\n",
              "      </script>\n",
              "    </div>\n",
              "  </div>\n",
              "  "
            ]
          },
          "metadata": {},
          "execution_count": 4
        }
      ],
      "source": [
        "import pandas as pd\n",
        "\n",
        "# intialize the dataframe\n",
        "tweets_df = pd.DataFrame()\n",
        "\n",
        "# populate the dataframe\n",
        "for tweet in tweets_copy:\n",
        "    hashtags = []\n",
        "    try:\n",
        "        for hashtag in tweet.entities[\"hashtags\"]:\n",
        "            hashtags.append(hashtag[\"text\"])\n",
        "        text = api.get_status(id=tweet.id, tweet_mode='extended').full_text\n",
        "    except:\n",
        "        pass\n",
        "    tweets_df = tweets_df.append(pd.DataFrame({'user_name': tweet.user.name, \n",
        "                                               'user_location': tweet.user.location,\\\n",
        "                                               'user_description': tweet.user.description,\n",
        "                                               'user_verified': tweet.user.verified,\n",
        "                                               'date': tweet.created_at,\n",
        "                                               'text': text, \n",
        "                                               'hashtags': [hashtags if hashtags else None],\n",
        "                                               'source': tweet.source}))\n",
        "    tweets_df = tweets_df.reset_index(drop=True)\n",
        "\n",
        "# show the dataframe\n",
        "tweets_df.head()"
      ]
    },
    {
      "cell_type": "code",
      "execution_count": null,
      "metadata": {
        "id": "yHHt8cSDYUc7"
      },
      "outputs": [],
      "source": [
        "from google.colab import drive\n",
        "drive.mount('/content/drive')"
      ]
    },
    {
      "cell_type": "code",
      "execution_count": null,
      "metadata": {
        "id": "TW7pmj5oYDvx"
      },
      "outputs": [],
      "source": [
        "tweets_df.to_csv('Tweets-2022-05-24.csv')#jgn lupa diganti tanggalnya"
      ]
    },
    {
      "cell_type": "markdown",
      "metadata": {
        "id": "onwcdWIqVFJx"
      },
      "source": [
        "Pre-Processing"
      ]
    },
    {
      "cell_type": "code",
      "execution_count": null,
      "metadata": {
        "id": "Hg0_Pz2yBQ8k",
        "colab": {
          "base_uri": "https://localhost:8080/"
        },
        "outputId": "b3a19281-9af8-4385-82a7-a3abcbad4eb7"
      },
      "outputs": [
        {
          "output_type": "stream",
          "name": "stdout",
          "text": [
            "[nltk_data] Downloading package stopwords to /root/nltk_data...\n",
            "[nltk_data]   Unzipping corpora/stopwords.zip.\n",
            "[nltk_data] Downloading package punkt to /root/nltk_data...\n",
            "[nltk_data]   Unzipping tokenizers/punkt.zip.\n",
            "[nltk_data] Downloading package wordnet to /root/nltk_data...\n",
            "[nltk_data]   Unzipping corpora/wordnet.zip.\n"
          ]
        },
        {
          "output_type": "execute_result",
          "data": {
            "text/plain": [
              "True"
            ]
          },
          "metadata": {},
          "execution_count": 7
        }
      ],
      "source": [
        "import nltk\n",
        "from nltk.corpus import stopwords  #stopwords\n",
        "from nltk.stem import WordNetLemmatizer  \n",
        "from sklearn.feature_extraction.text import TfidfVectorizer\n",
        "from nltk.tokenize import word_tokenize\n",
        "nltk.download('stopwords')\n",
        "nltk.download('punkt')\n",
        "nltk.download('wordnet')"
      ]
    },
    {
      "cell_type": "code",
      "execution_count": null,
      "metadata": {
        "id": "AEIATb1PUCqp"
      },
      "outputs": [],
      "source": [
        "stop_words=set(nltk.corpus.stopwords.words('english'))"
      ]
    },
    {
      "cell_type": "code",
      "execution_count": null,
      "metadata": {
        "id": "DpxQ7svgJuSW"
      },
      "outputs": [],
      "source": [
        "def clean_text(headline):\n",
        "      le=WordNetLemmatizer()\n",
        "      word_tokens=word_tokenize(headline)\n",
        "      tokens=[le.lemmatize(w) for w in word_tokens if w not in stop_words and len(w)>3]\n",
        "      cleaned_text=\" \".join(tokens)\n",
        "      return cleaned_text\n"
      ]
    },
    {
      "cell_type": "code",
      "execution_count": null,
      "metadata": {
        "id": "2nZsHnq3KHiP"
      },
      "outputs": [],
      "source": [
        "tweets_df['cleaned_text']=tweets_df['text'].apply(clean_text)"
      ]
    },
    {
      "cell_type": "markdown",
      "metadata": {
        "id": "ST3Il-54VLBh"
      },
      "source": [
        "TFIDF vectorization on the text column"
      ]
    },
    {
      "cell_type": "code",
      "execution_count": null,
      "metadata": {
        "id": "JG4pIqY-VOq-"
      },
      "outputs": [],
      "source": [
        "vect =TfidfVectorizer(stop_words=stop_words,max_features=1000)\n",
        "vect_text=vect.fit_transform(tweets_df['cleaned_text'])"
      ]
    },
    {
      "cell_type": "markdown",
      "metadata": {
        "id": "hGwVzry4VWbJ"
      },
      "source": [
        "LDA on the vectorized text"
      ]
    },
    {
      "cell_type": "code",
      "execution_count": null,
      "metadata": {
        "id": "BwZ0wB6bVVka"
      },
      "outputs": [],
      "source": [
        "from sklearn.decomposition import LatentDirichletAllocation\n",
        "lda_model=LatentDirichletAllocation(n_components=10,\n",
        "learning_method='online',random_state=42,max_iter=1) \n",
        "lda_top=lda_model.fit_transform(vect_text)"
      ]
    },
    {
      "cell_type": "markdown",
      "metadata": {
        "id": "DVMJ0mU0VdEz"
      },
      "source": [
        "\n",
        "Result"
      ]
    },
    {
      "cell_type": "code",
      "execution_count": null,
      "metadata": {
        "id": "S3zR1kshVdJb",
        "colab": {
          "base_uri": "https://localhost:8080/"
        },
        "outputId": "5fe734d6-486b-4b16-d9e8-431ed942573e"
      },
      "outputs": [
        {
          "output_type": "stream",
          "name": "stdout",
          "text": [
            "Document 0: \n",
            "Topic  0 :  4.147353487205024 %\n",
            "Topic  1 :  4.147354112637864 %\n",
            "Topic  2 :  4.147368576994597 %\n",
            "Topic  3 :  4.147359892192386 %\n",
            "Topic  4 :  4.1473550234904035 %\n",
            "Topic  5 :  62.67377344197016 %\n",
            "Topic  6 :  4.147354410769453 %\n",
            "Topic  7 :  4.147362553444848 %\n",
            "Topic  8 :  4.1473652693631395 %\n",
            "Topic  9 :  4.147353231932135 %\n"
          ]
        }
      ],
      "source": [
        "print(\"Document 0: \")\n",
        "for i,topic in enumerate(lda_top[0]):\n",
        "  print(\"Topic \",i,\": \",topic*100,\"%\")"
      ]
    },
    {
      "cell_type": "code",
      "execution_count": null,
      "metadata": {
        "id": "-XPumWE1VlZx",
        "colab": {
          "base_uri": "https://localhost:8080/"
        },
        "outputId": "efe22779-1149-419b-9a06-a8bbb632a7a9"
      },
      "outputs": [
        {
          "output_type": "stream",
          "name": "stdout",
          "text": [
            "\n",
            "Topic 0: \n",
            "http co done true live free like could funny girl \n",
            "Topic 1: \n",
            "love http co please issue till moment send song without \n",
            "Topic 2: \n",
            "back look game http co friend always still real like \n",
            "Topic 3: \n",
            "best today think help wrong want tweet call find night \n",
            "Topic 4: \n",
            "morning co http good warning flood neosho tatum video near \n",
            "Topic 5: \n",
            "need year post welcome school cause http co dude hear \n",
            "Topic 6: \n",
            "good nice wait know yeah little time called lmao thing \n",
            "Topic 7: \n",
            "right going birthday happy talking since trying every work follow \n",
            "Topic 8: \n",
            "great avatar claim adidas_meta_ sure shirt amazing ready point meet \n",
            "Topic 9: \n",
            "co http like thank would really take never know life "
          ]
        },
        {
          "output_type": "stream",
          "name": "stderr",
          "text": [
            "/usr/local/lib/python3.7/dist-packages/sklearn/utils/deprecation.py:87: FutureWarning: Function get_feature_names is deprecated; get_feature_names is deprecated in 1.0 and will be removed in 1.2. Please use get_feature_names_out instead.\n",
            "  warnings.warn(msg, category=FutureWarning)\n"
          ]
        }
      ],
      "source": [
        "vocab = vect.get_feature_names()\n",
        "for i, comp in enumerate(lda_model.components_):\n",
        "     vocab_comp = zip(vocab, comp)\n",
        "     sorted_words = sorted(vocab_comp, key= lambda x:x[1], reverse=True)[:10]\n",
        "     print(\"\")\n",
        "     print(\"Topic \"+str(i)+\": \")\n",
        "     for t in sorted_words:\n",
        "            print(t[0],end=\" \")\n"
      ]
    },
    {
      "cell_type": "code",
      "execution_count": null,
      "metadata": {
        "id": "aY3cDixDb_eZ"
      },
      "outputs": [],
      "source": [
        ""
      ]
    }
  ],
  "metadata": {
    "accelerator": "GPU",
    "colab": {
      "collapsed_sections": [],
      "name": "PIMO-Media-Monitoring-Phase1-FetchData.ipynb",
      "provenance": []
    },
    "kernelspec": {
      "display_name": "Python 3",
      "name": "python3"
    },
    "language_info": {
      "name": "python"
    }
  },
  "nbformat": 4,
  "nbformat_minor": 0
}