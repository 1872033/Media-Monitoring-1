{
  "nbformat": 4,
  "nbformat_minor": 0,
  "metadata": {
    "colab": {
      "name": "PIMO-Google-Web-Scrape.ipynb",
      "provenance": []
    },
    "kernelspec": {
      "name": "python3",
      "display_name": "Python 3"
    },
    "language_info": {
      "name": "python"
    }
  },
  "cells": [
    {
      "cell_type": "code",
      "source": [
        "!pip install requests_html"
      ],
      "metadata": {
        "colab": {
          "base_uri": "https://localhost:8080/"
        },
        "id": "SYFx7e6hVwc4",
        "outputId": "230a0ad4-8cd7-4e95-b232-2cff0603a918"
      },
      "execution_count": null,
      "outputs": [
        {
          "output_type": "stream",
          "name": "stdout",
          "text": [
            "Requirement already satisfied: requests_html in /usr/local/lib/python3.7/dist-packages (0.10.0)\n",
            "Requirement already satisfied: requests in /usr/local/lib/python3.7/dist-packages (from requests_html) (2.23.0)\n",
            "Requirement already satisfied: parse in /usr/local/lib/python3.7/dist-packages (from requests_html) (1.19.0)\n",
            "Requirement already satisfied: bs4 in /usr/local/lib/python3.7/dist-packages (from requests_html) (0.0.1)\n",
            "Requirement already satisfied: pyppeteer>=0.0.14 in /usr/local/lib/python3.7/dist-packages (from requests_html) (1.0.2)\n",
            "Requirement already satisfied: pyquery in /usr/local/lib/python3.7/dist-packages (from requests_html) (1.4.3)\n",
            "Requirement already satisfied: fake-useragent in /usr/local/lib/python3.7/dist-packages (from requests_html) (0.1.11)\n",
            "Requirement already satisfied: w3lib in /usr/local/lib/python3.7/dist-packages (from requests_html) (1.22.0)\n",
            "Requirement already satisfied: certifi>=2021 in /usr/local/lib/python3.7/dist-packages (from pyppeteer>=0.0.14->requests_html) (2021.10.8)\n",
            "Requirement already satisfied: importlib-metadata>=1.4 in /usr/local/lib/python3.7/dist-packages (from pyppeteer>=0.0.14->requests_html) (4.11.3)\n",
            "Requirement already satisfied: websockets<11.0,>=10.0 in /usr/local/lib/python3.7/dist-packages (from pyppeteer>=0.0.14->requests_html) (10.3)\n",
            "Requirement already satisfied: tqdm<5.0.0,>=4.42.1 in /usr/local/lib/python3.7/dist-packages (from pyppeteer>=0.0.14->requests_html) (4.64.0)\n",
            "Requirement already satisfied: appdirs<2.0.0,>=1.4.3 in /usr/local/lib/python3.7/dist-packages (from pyppeteer>=0.0.14->requests_html) (1.4.4)\n",
            "Requirement already satisfied: pyee<9.0.0,>=8.1.0 in /usr/local/lib/python3.7/dist-packages (from pyppeteer>=0.0.14->requests_html) (8.2.2)\n",
            "Requirement already satisfied: urllib3<2.0.0,>=1.25.8 in /usr/local/lib/python3.7/dist-packages (from pyppeteer>=0.0.14->requests_html) (1.25.11)\n",
            "Requirement already satisfied: zipp>=0.5 in /usr/local/lib/python3.7/dist-packages (from importlib-metadata>=1.4->pyppeteer>=0.0.14->requests_html) (3.8.0)\n",
            "Requirement already satisfied: typing-extensions>=3.6.4 in /usr/local/lib/python3.7/dist-packages (from importlib-metadata>=1.4->pyppeteer>=0.0.14->requests_html) (4.1.1)\n",
            "Requirement already satisfied: beautifulsoup4 in /usr/local/lib/python3.7/dist-packages (from bs4->requests_html) (4.6.3)\n",
            "Requirement already satisfied: lxml>=2.1 in /usr/local/lib/python3.7/dist-packages (from pyquery->requests_html) (4.2.6)\n",
            "Requirement already satisfied: cssselect>0.7.9 in /usr/local/lib/python3.7/dist-packages (from pyquery->requests_html) (1.1.0)\n",
            "Requirement already satisfied: idna<3,>=2.5 in /usr/local/lib/python3.7/dist-packages (from requests->requests_html) (2.10)\n",
            "Requirement already satisfied: chardet<4,>=3.0.2 in /usr/local/lib/python3.7/dist-packages (from requests->requests_html) (3.0.4)\n",
            "Requirement already satisfied: six>=1.4.1 in /usr/local/lib/python3.7/dist-packages (from w3lib->requests_html) (1.15.0)\n"
          ]
        }
      ]
    },
    {
      "cell_type": "code",
      "execution_count": null,
      "metadata": {
        "id": "zWN_2CGWVdTH"
      },
      "outputs": [],
      "source": [
        "import requests\n",
        "import urllib\n",
        "import pandas as pd\n",
        "from requests_html import HTML\n",
        "from requests_html import HTMLSession"
      ]
    },
    {
      "cell_type": "code",
      "source": [
        "url = 'https://www.google.com/search?q=site%3Atekno.kompas.com+after%3A+2021-03-14&rlz=1C1NHXL_enID890ID890&biw=2416&bih=1223&sxsrf=APq-WBuTP0CMXJjkY2hH9buBSvvfbLswFA%3A1650266333781&ei=3RBdYqSdL-ugseMP5OCCYA&ved=0ahUKEwjk_--UiZ33AhVrUGwGHWSwAAwQ4dUDCA4&oq=site%3Atekno.kompas.com+after%3A+2021-03-14&gs_lcp=Cgdnd3Mtd2l6EAxKBAhBGAFKBAhGGABQhQJY-wVg9hVoAXAAeACAAS2IAViSAQEymAEAoAEBwAEB&sclient=gws-wiz'\n",
        "query ='site:tekno.kompas.com after: 2021-03-14'"
      ],
      "metadata": {
        "id": "wcMd3wQEW6s0"
      },
      "execution_count": null,
      "outputs": []
    },
    {
      "cell_type": "code",
      "source": [
        "def get_source(url):\n",
        "\n",
        "    try:\n",
        "        session = HTMLSession()\n",
        "        response = session.get(url)\n",
        "        return response\n",
        "\n",
        "    except requests.exceptions.RequestException as e:\n",
        "        print(e)"
      ],
      "metadata": {
        "id": "gqFTatopW13e"
      },
      "execution_count": null,
      "outputs": []
    },
    {
      "cell_type": "code",
      "source": [
        "def get_results(query):\n",
        "    \n",
        "    query = urllib.parse.quote_plus(query)\n",
        "    response = get_source(\"https://www.google.com/search?q=site%3Atekno.kompas.com+after%3A+2021-03-14&rlz=1C1NHXL_enID890ID890&biw=2416&bih=1223&sxsrf=APq-WBuTP0CMXJjkY2hH9buBSvvfbLswFA%3A1650266333781&ei=3RBdYqSdL-ugseMP5OCCYA&ved=0ahUKEwjk_--UiZ33AhVrUGwGHWSwAAwQ4dUDCA4&oq=site%3Atekno.kompas.com+after%3A+2021-03-14&gs_lcp=Cgdnd3Mtd2l6EAxKBAhBGAFKBAhGGABQhQJY-wVg9hVoAXAAeACAAS2IAViSAQEymAEAoAEBwAEB&sclient=gws-wiz\" + query)\n",
        "    \n",
        "    return response"
      ],
      "metadata": {
        "id": "S1j7xDKYX8PS"
      },
      "execution_count": null,
      "outputs": []
    },
    {
      "cell_type": "code",
      "source": [
        "def parse_results(response):\n",
        "    \n",
        "    css_identifier_result = \".tF2Cxc\"\n",
        "    css_identifier_title = \"h3\"\n",
        "    css_identifier_link = \".yuRUbf a\"\n",
        "    css_identifier_text = \".IsZvec\"\n",
        "    \n",
        "    results = response.html.find(css_identifier_result)\n",
        "\n",
        "    output = []\n",
        "    \n",
        "    for result in results:\n",
        "\n",
        "        item = {\n",
        "            'title': result.find(css_identifier_title, first=True).text,\n",
        "            'link': result.find(css_identifier_link, first=True).attrs['href'],\n",
        "            'text': result.find(css_identifier_text, first=True)\n",
        "        }\n",
        "        \n",
        "        output.append(item)\n",
        "        \n",
        "    return output"
      ],
      "metadata": {
        "id": "4a7XEgTYYEPA"
      },
      "execution_count": null,
      "outputs": []
    },
    {
      "cell_type": "code",
      "source": [
        "def google_search(query):\n",
        "    response = get_results(query)\n",
        "    return parse_results(response)"
      ],
      "metadata": {
        "id": "q68_OEskYFhs"
      },
      "execution_count": null,
      "outputs": []
    },
    {
      "cell_type": "code",
      "source": [
        "results = google_search('site:tekno.kompas.com after: 2021-03-13')\n",
        "results"
      ],
      "metadata": {
        "colab": {
          "base_uri": "https://localhost:8080/"
        },
        "id": "NPtXF_x9YJ-b",
        "outputId": "9db48fb5-40ae-43ea-fb04-c76effbfadac"
      },
      "execution_count": null,
      "outputs": [
        {
          "output_type": "execute_result",
          "data": {
            "text/plain": [
              "[{'link': 'https://tekno.kompas.com/read/2021/07/15/08070027/5-vendor-smartphone-sediakan-layanan-antar-jemput-untuk-servis-ponsel?page=all',\n",
              "  'text': None,\n",
              "  'title': '5 Vendor Smartphone Sediakan Layanan Antar Jemput untuk ...'}]"
            ]
          },
          "metadata": {},
          "execution_count": 101
        }
      ]
    }
  ]
}